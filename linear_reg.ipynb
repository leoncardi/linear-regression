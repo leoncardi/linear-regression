{
 "cells": [
  {
   "cell_type": "markdown",
   "metadata": {},
   "source": [
    "# 1. ABOUT THIS NOTEBOOK AND STACK\n",
    "\n",
    "$\\Large y= a + bx$\n",
    "\n",
    "$\\Large a= \\frac{\\sum y}{n} - b . \\frac{\\sum x}{n}$\n",
    "\n",
    "$\\Large b= \\frac{ n . \\sum (x.y) - \\sum x . \\sum y }  { n . \\sum x^2 - (\\sum x)^2 }$\n",
    "\n",
    "\n",
    "**y:** dependent variable (Y-axis)<br>\n",
    "**a:** y-intercept<br>\n",
    "**b:** regression line slope<br>\n",
    "**x:** independent variable (X-axis)<br>\n",
    "**n:** number of data points<br>"
   ]
  },
  {
   "cell_type": "code",
   "execution_count": 1,
   "metadata": {},
   "outputs": [],
   "source": [
    "import numpy as np\n",
    "import matplotlib.pyplot as plt"
   ]
  },
  {
   "cell_type": "markdown",
   "metadata": {},
   "source": [
    "# 2. DATA"
   ]
  },
  {
   "cell_type": "markdown",
   "metadata": {},
   "source": [
    "## Setting Linear Correlation Variables"
   ]
  },
  {
   "cell_type": "code",
<<<<<<< HEAD
   "execution_count": 16,
   "metadata": {},
   "outputs": [],
   "source": [
    "y = np.array([10, 11, 12, 13, 14, 15]).reshape(-1, 1)\n",
    "X = np.array([100, 114, 118, 130, 139, 141]).reshape(-1, 1)"
=======
   "execution_count": 2,
   "metadata": {},
   "outputs": [],
   "source": [
    "X = np.array([10, 11, 12, 13, 14, 15]).reshape(-1, 1)\n",
    "y = np.array([100, 114, 118, 130, 139, 141]).reshape(-1, 1)"
>>>>>>> f919394 (FEAT: Added a ipynb impl. Simple Linear Regression)
   ]
  },
  {
   "cell_type": "code",
   "execution_count": 3,
   "metadata": {},
   "outputs": [
    {
     "data": {
<<<<<<< HEAD
      "image/png": "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",
=======
      "image/png": "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",
>>>>>>> f919394 (FEAT: Added a ipynb impl. Simple Linear Regression)
      "text/plain": [
       "<Figure size 300x150 with 1 Axes>"
      ]
     },
     "metadata": {},
     "output_type": "display_data"
    },
    {
     "name": "stdout",
     "output_type": "stream",
     "text": [
<<<<<<< HEAD
      "Correlation Coefficient for X and y: 98%\n"
=======
      "Correlation Coefficient for X and y: 98.26953362205697\n"
>>>>>>> f919394 (FEAT: Added a ipynb impl. Simple Linear Regression)
     ]
    }
   ],
   "source": [
    "plt.figure(figsize=(3, 1.5))\n",
    "plt.scatter(X, y)\n",
    "plt.xlabel('X')\n",
    "plt.ylabel('y')\n",
    "plt.title('Data Dispersion')\n",
    "plt.show()\n",
    "\n",
<<<<<<< HEAD
    "correlation_coefficient = int(np.corrcoef(X, y)[0, 1]*100)\n",
    "print(f'Correlation Coefficient for X and y: {correlation_coefficient}%')"
=======
    "correlation_coefficient = np.corrcoef(X.flatten(), y.flatten())[0, 1]*100\n",
    "print(f'Correlation Coefficient for X and y: {correlation_coefficient}')"
>>>>>>> f919394 (FEAT: Added a ipynb impl. Simple Linear Regression)
   ]
  },
  {
   "cell_type": "markdown",
   "metadata": {},
   "source": [
    "# 3. MODEL"
   ]
  },
  {
   "cell_type": "markdown",
   "metadata": {},
   "source": [
    "## Setting Parameters"
   ]
  },
  {
   "cell_type": "code",
   "execution_count": 4,
   "metadata": {},
   "outputs": [],
   "source": [
    "n = y.size\n",
<<<<<<< HEAD
    "X_mult_y = np.dot(X, y)"
=======
    "X_mult_y = (X * y).sum()"
>>>>>>> f919394 (FEAT: Added a ipynb impl. Simple Linear Regression)
   ]
  },
  {
   "cell_type": "markdown",
   "metadata": {},
   "source": [
    "## Linear Regression Implementation"
   ]
  },
  {
   "cell_type": "code",
   "execution_count": 5,
   "metadata": {},
   "outputs": [
    {
     "name": "stdout",
     "output_type": "stream",
     "text": [
<<<<<<< HEAD
      "Slope: 0.00031821913528672416\n"
=======
      "Slope: 0.031146666666666666\n"
>>>>>>> f919394 (FEAT: Added a ipynb impl. Simple Linear Regression)
     ]
    }
   ],
   "source": [
    "slope_numerator = n * X_mult_y - X.sum() * y.sum()\n",
    "slope_denominator = n * X.sum()**2 - (X.sum())**2\n",
    "slope = slope_numerator / slope_denominator\n",
    "print(f'Slope: {slope}')"
   ]
  },
  {
   "cell_type": "code",
   "execution_count": 6,
   "metadata": {},
   "outputs": [
    {
     "name": "stdout",
     "output_type": "stream",
     "text": [
<<<<<<< HEAD
      "Intercept: 12.460646900269541\n"
=======
      "Intercept: 123.27733333333333\n"
>>>>>>> f919394 (FEAT: Added a ipynb impl. Simple Linear Regression)
     ]
    }
   ],
   "source": [
    "intercept_step_1 = y.sum() / n\n",
    "intercept_step_2 = slope * X.sum() / n\n",
    "intercept = intercept_step_1 - intercept_step_2\n",
    "print(f'Intercept: {intercept}')"
   ]
<<<<<<< HEAD
  },
  {
   "cell_type": "code",
   "execution_count": 11,
   "metadata": {},
   "outputs": [
    {
     "data": {
      "text/plain": [
       "array([12.46637484, 12.4988332 ])"
      ]
     },
     "execution_count": 11,
     "metadata": {},
     "output_type": "execute_result"
    }
   ],
   "source": [
    "intercept + slope * np.array([18, 120])\n"
   ]
  },
  {
   "cell_type": "code",
   "execution_count": 12,
   "metadata": {},
   "outputs": [
    {
     "name": "stdout",
     "output_type": "stream",
     "text": [
      "Collecting scikit-learn\n",
      "  Downloading scikit_learn-1.5.0-cp310-cp310-manylinux_2_17_x86_64.manylinux2014_x86_64.whl.metadata (11 kB)\n",
      "Requirement already satisfied: numpy>=1.19.5 in ./venv/lib/python3.10/site-packages (from scikit-learn) (1.26.4)\n",
      "Collecting scipy>=1.6.0 (from scikit-learn)\n",
      "  Downloading scipy-1.13.1-cp310-cp310-manylinux_2_17_x86_64.manylinux2014_x86_64.whl.metadata (60 kB)\n",
      "\u001b[2K     \u001b[90m━━━━━━━━━━━━━━━━━━━━━━━━━━━━━━━━━━━━━━━━\u001b[0m \u001b[32m60.6/60.6 kB\u001b[0m \u001b[31m1.6 MB/s\u001b[0m eta \u001b[36m0:00:00\u001b[0m\n",
      "\u001b[?25hCollecting joblib>=1.2.0 (from scikit-learn)\n",
      "  Downloading joblib-1.4.2-py3-none-any.whl.metadata (5.4 kB)\n",
      "Collecting threadpoolctl>=3.1.0 (from scikit-learn)\n",
      "  Downloading threadpoolctl-3.5.0-py3-none-any.whl.metadata (13 kB)\n",
      "Downloading scikit_learn-1.5.0-cp310-cp310-manylinux_2_17_x86_64.manylinux2014_x86_64.whl (13.3 MB)\n",
      "\u001b[2K   \u001b[90m━━━━━━━━━━━━━━━━━━━━━━━━━━━━━━━━━━━━━━━━\u001b[0m \u001b[32m13.3/13.3 MB\u001b[0m \u001b[31m58.1 MB/s\u001b[0m eta \u001b[36m0:00:00\u001b[0m:00:01\u001b[0m0:01\u001b[0m\n",
      "\u001b[?25hDownloading joblib-1.4.2-py3-none-any.whl (301 kB)\n",
      "\u001b[2K   \u001b[90m━━━━━━━━━━━━━━━━━━━━━━━━━━━━━━━━━━━━━━━━\u001b[0m \u001b[32m301.8/301.8 kB\u001b[0m \u001b[31m8.1 MB/s\u001b[0m eta \u001b[36m0:00:00\u001b[0m:00:01\u001b[0m\n",
      "\u001b[?25hDownloading scipy-1.13.1-cp310-cp310-manylinux_2_17_x86_64.manylinux2014_x86_64.whl (38.6 MB)\n",
      "\u001b[2K   \u001b[90m━━━━━━━━━━━━━━━━━━━━━━━━━━━━━━━━━━━━━━━━\u001b[0m \u001b[32m38.6/38.6 MB\u001b[0m \u001b[31m32.8 MB/s\u001b[0m eta \u001b[36m0:00:00\u001b[0m:00:01\u001b[0m00:01\u001b[0m\n",
      "\u001b[?25hDownloading threadpoolctl-3.5.0-py3-none-any.whl (18 kB)\n",
      "Installing collected packages: threadpoolctl, scipy, joblib, scikit-learn\n",
      "Successfully installed joblib-1.4.2 scikit-learn-1.5.0 scipy-1.13.1 threadpoolctl-3.5.0\n",
      "Note: you may need to restart the kernel to use updated packages.\n"
     ]
    }
   ],
   "source": [
    "%pip install scikit-learn"
   ]
  },
  {
   "cell_type": "code",
   "execution_count": 13,
   "metadata": {},
   "outputs": [],
   "source": [
    "from sklearn.linear_model import LinearRegression"
   ]
  },
  {
   "cell_type": "code",
   "execution_count": 14,
   "metadata": {},
   "outputs": [],
   "source": [
    "reg = LinearRegression()"
   ]
  },
  {
   "cell_type": "code",
   "execution_count": 17,
   "metadata": {},
   "outputs": [
    {
     "data": {
      "text/html": [
       "<style>#sk-container-id-1 {\n",
       "  /* Definition of color scheme common for light and dark mode */\n",
       "  --sklearn-color-text: black;\n",
       "  --sklearn-color-line: gray;\n",
       "  /* Definition of color scheme for unfitted estimators */\n",
       "  --sklearn-color-unfitted-level-0: #fff5e6;\n",
       "  --sklearn-color-unfitted-level-1: #f6e4d2;\n",
       "  --sklearn-color-unfitted-level-2: #ffe0b3;\n",
       "  --sklearn-color-unfitted-level-3: chocolate;\n",
       "  /* Definition of color scheme for fitted estimators */\n",
       "  --sklearn-color-fitted-level-0: #f0f8ff;\n",
       "  --sklearn-color-fitted-level-1: #d4ebff;\n",
       "  --sklearn-color-fitted-level-2: #b3dbfd;\n",
       "  --sklearn-color-fitted-level-3: cornflowerblue;\n",
       "\n",
       "  /* Specific color for light theme */\n",
       "  --sklearn-color-text-on-default-background: var(--sg-text-color, var(--theme-code-foreground, var(--jp-content-font-color1, black)));\n",
       "  --sklearn-color-background: var(--sg-background-color, var(--theme-background, var(--jp-layout-color0, white)));\n",
       "  --sklearn-color-border-box: var(--sg-text-color, var(--theme-code-foreground, var(--jp-content-font-color1, black)));\n",
       "  --sklearn-color-icon: #696969;\n",
       "\n",
       "  @media (prefers-color-scheme: dark) {\n",
       "    /* Redefinition of color scheme for dark theme */\n",
       "    --sklearn-color-text-on-default-background: var(--sg-text-color, var(--theme-code-foreground, var(--jp-content-font-color1, white)));\n",
       "    --sklearn-color-background: var(--sg-background-color, var(--theme-background, var(--jp-layout-color0, #111)));\n",
       "    --sklearn-color-border-box: var(--sg-text-color, var(--theme-code-foreground, var(--jp-content-font-color1, white)));\n",
       "    --sklearn-color-icon: #878787;\n",
       "  }\n",
       "}\n",
       "\n",
       "#sk-container-id-1 {\n",
       "  color: var(--sklearn-color-text);\n",
       "}\n",
       "\n",
       "#sk-container-id-1 pre {\n",
       "  padding: 0;\n",
       "}\n",
       "\n",
       "#sk-container-id-1 input.sk-hidden--visually {\n",
       "  border: 0;\n",
       "  clip: rect(1px 1px 1px 1px);\n",
       "  clip: rect(1px, 1px, 1px, 1px);\n",
       "  height: 1px;\n",
       "  margin: -1px;\n",
       "  overflow: hidden;\n",
       "  padding: 0;\n",
       "  position: absolute;\n",
       "  width: 1px;\n",
       "}\n",
       "\n",
       "#sk-container-id-1 div.sk-dashed-wrapped {\n",
       "  border: 1px dashed var(--sklearn-color-line);\n",
       "  margin: 0 0.4em 0.5em 0.4em;\n",
       "  box-sizing: border-box;\n",
       "  padding-bottom: 0.4em;\n",
       "  background-color: var(--sklearn-color-background);\n",
       "}\n",
       "\n",
       "#sk-container-id-1 div.sk-container {\n",
       "  /* jupyter's `normalize.less` sets `[hidden] { display: none; }`\n",
       "     but bootstrap.min.css set `[hidden] { display: none !important; }`\n",
       "     so we also need the `!important` here to be able to override the\n",
       "     default hidden behavior on the sphinx rendered scikit-learn.org.\n",
       "     See: https://github.com/scikit-learn/scikit-learn/issues/21755 */\n",
       "  display: inline-block !important;\n",
       "  position: relative;\n",
       "}\n",
       "\n",
       "#sk-container-id-1 div.sk-text-repr-fallback {\n",
       "  display: none;\n",
       "}\n",
       "\n",
       "div.sk-parallel-item,\n",
       "div.sk-serial,\n",
       "div.sk-item {\n",
       "  /* draw centered vertical line to link estimators */\n",
       "  background-image: linear-gradient(var(--sklearn-color-text-on-default-background), var(--sklearn-color-text-on-default-background));\n",
       "  background-size: 2px 100%;\n",
       "  background-repeat: no-repeat;\n",
       "  background-position: center center;\n",
       "}\n",
       "\n",
       "/* Parallel-specific style estimator block */\n",
       "\n",
       "#sk-container-id-1 div.sk-parallel-item::after {\n",
       "  content: \"\";\n",
       "  width: 100%;\n",
       "  border-bottom: 2px solid var(--sklearn-color-text-on-default-background);\n",
       "  flex-grow: 1;\n",
       "}\n",
       "\n",
       "#sk-container-id-1 div.sk-parallel {\n",
       "  display: flex;\n",
       "  align-items: stretch;\n",
       "  justify-content: center;\n",
       "  background-color: var(--sklearn-color-background);\n",
       "  position: relative;\n",
       "}\n",
       "\n",
       "#sk-container-id-1 div.sk-parallel-item {\n",
       "  display: flex;\n",
       "  flex-direction: column;\n",
       "}\n",
       "\n",
       "#sk-container-id-1 div.sk-parallel-item:first-child::after {\n",
       "  align-self: flex-end;\n",
       "  width: 50%;\n",
       "}\n",
       "\n",
       "#sk-container-id-1 div.sk-parallel-item:last-child::after {\n",
       "  align-self: flex-start;\n",
       "  width: 50%;\n",
       "}\n",
       "\n",
       "#sk-container-id-1 div.sk-parallel-item:only-child::after {\n",
       "  width: 0;\n",
       "}\n",
       "\n",
       "/* Serial-specific style estimator block */\n",
       "\n",
       "#sk-container-id-1 div.sk-serial {\n",
       "  display: flex;\n",
       "  flex-direction: column;\n",
       "  align-items: center;\n",
       "  background-color: var(--sklearn-color-background);\n",
       "  padding-right: 1em;\n",
       "  padding-left: 1em;\n",
       "}\n",
       "\n",
       "\n",
       "/* Toggleable style: style used for estimator/Pipeline/ColumnTransformer box that is\n",
       "clickable and can be expanded/collapsed.\n",
       "- Pipeline and ColumnTransformer use this feature and define the default style\n",
       "- Estimators will overwrite some part of the style using the `sk-estimator` class\n",
       "*/\n",
       "\n",
       "/* Pipeline and ColumnTransformer style (default) */\n",
       "\n",
       "#sk-container-id-1 div.sk-toggleable {\n",
       "  /* Default theme specific background. It is overwritten whether we have a\n",
       "  specific estimator or a Pipeline/ColumnTransformer */\n",
       "  background-color: var(--sklearn-color-background);\n",
       "}\n",
       "\n",
       "/* Toggleable label */\n",
       "#sk-container-id-1 label.sk-toggleable__label {\n",
       "  cursor: pointer;\n",
       "  display: block;\n",
       "  width: 100%;\n",
       "  margin-bottom: 0;\n",
       "  padding: 0.5em;\n",
       "  box-sizing: border-box;\n",
       "  text-align: center;\n",
       "}\n",
       "\n",
       "#sk-container-id-1 label.sk-toggleable__label-arrow:before {\n",
       "  /* Arrow on the left of the label */\n",
       "  content: \"▸\";\n",
       "  float: left;\n",
       "  margin-right: 0.25em;\n",
       "  color: var(--sklearn-color-icon);\n",
       "}\n",
       "\n",
       "#sk-container-id-1 label.sk-toggleable__label-arrow:hover:before {\n",
       "  color: var(--sklearn-color-text);\n",
       "}\n",
       "\n",
       "/* Toggleable content - dropdown */\n",
       "\n",
       "#sk-container-id-1 div.sk-toggleable__content {\n",
       "  max-height: 0;\n",
       "  max-width: 0;\n",
       "  overflow: hidden;\n",
       "  text-align: left;\n",
       "  /* unfitted */\n",
       "  background-color: var(--sklearn-color-unfitted-level-0);\n",
       "}\n",
       "\n",
       "#sk-container-id-1 div.sk-toggleable__content.fitted {\n",
       "  /* fitted */\n",
       "  background-color: var(--sklearn-color-fitted-level-0);\n",
       "}\n",
       "\n",
       "#sk-container-id-1 div.sk-toggleable__content pre {\n",
       "  margin: 0.2em;\n",
       "  border-radius: 0.25em;\n",
       "  color: var(--sklearn-color-text);\n",
       "  /* unfitted */\n",
       "  background-color: var(--sklearn-color-unfitted-level-0);\n",
       "}\n",
       "\n",
       "#sk-container-id-1 div.sk-toggleable__content.fitted pre {\n",
       "  /* unfitted */\n",
       "  background-color: var(--sklearn-color-fitted-level-0);\n",
       "}\n",
       "\n",
       "#sk-container-id-1 input.sk-toggleable__control:checked~div.sk-toggleable__content {\n",
       "  /* Expand drop-down */\n",
       "  max-height: 200px;\n",
       "  max-width: 100%;\n",
       "  overflow: auto;\n",
       "}\n",
       "\n",
       "#sk-container-id-1 input.sk-toggleable__control:checked~label.sk-toggleable__label-arrow:before {\n",
       "  content: \"▾\";\n",
       "}\n",
       "\n",
       "/* Pipeline/ColumnTransformer-specific style */\n",
       "\n",
       "#sk-container-id-1 div.sk-label input.sk-toggleable__control:checked~label.sk-toggleable__label {\n",
       "  color: var(--sklearn-color-text);\n",
       "  background-color: var(--sklearn-color-unfitted-level-2);\n",
       "}\n",
       "\n",
       "#sk-container-id-1 div.sk-label.fitted input.sk-toggleable__control:checked~label.sk-toggleable__label {\n",
       "  background-color: var(--sklearn-color-fitted-level-2);\n",
       "}\n",
       "\n",
       "/* Estimator-specific style */\n",
       "\n",
       "/* Colorize estimator box */\n",
       "#sk-container-id-1 div.sk-estimator input.sk-toggleable__control:checked~label.sk-toggleable__label {\n",
       "  /* unfitted */\n",
       "  background-color: var(--sklearn-color-unfitted-level-2);\n",
       "}\n",
       "\n",
       "#sk-container-id-1 div.sk-estimator.fitted input.sk-toggleable__control:checked~label.sk-toggleable__label {\n",
       "  /* fitted */\n",
       "  background-color: var(--sklearn-color-fitted-level-2);\n",
       "}\n",
       "\n",
       "#sk-container-id-1 div.sk-label label.sk-toggleable__label,\n",
       "#sk-container-id-1 div.sk-label label {\n",
       "  /* The background is the default theme color */\n",
       "  color: var(--sklearn-color-text-on-default-background);\n",
       "}\n",
       "\n",
       "/* On hover, darken the color of the background */\n",
       "#sk-container-id-1 div.sk-label:hover label.sk-toggleable__label {\n",
       "  color: var(--sklearn-color-text);\n",
       "  background-color: var(--sklearn-color-unfitted-level-2);\n",
       "}\n",
       "\n",
       "/* Label box, darken color on hover, fitted */\n",
       "#sk-container-id-1 div.sk-label.fitted:hover label.sk-toggleable__label.fitted {\n",
       "  color: var(--sklearn-color-text);\n",
       "  background-color: var(--sklearn-color-fitted-level-2);\n",
       "}\n",
       "\n",
       "/* Estimator label */\n",
       "\n",
       "#sk-container-id-1 div.sk-label label {\n",
       "  font-family: monospace;\n",
       "  font-weight: bold;\n",
       "  display: inline-block;\n",
       "  line-height: 1.2em;\n",
       "}\n",
       "\n",
       "#sk-container-id-1 div.sk-label-container {\n",
       "  text-align: center;\n",
       "}\n",
       "\n",
       "/* Estimator-specific */\n",
       "#sk-container-id-1 div.sk-estimator {\n",
       "  font-family: monospace;\n",
       "  border: 1px dotted var(--sklearn-color-border-box);\n",
       "  border-radius: 0.25em;\n",
       "  box-sizing: border-box;\n",
       "  margin-bottom: 0.5em;\n",
       "  /* unfitted */\n",
       "  background-color: var(--sklearn-color-unfitted-level-0);\n",
       "}\n",
       "\n",
       "#sk-container-id-1 div.sk-estimator.fitted {\n",
       "  /* fitted */\n",
       "  background-color: var(--sklearn-color-fitted-level-0);\n",
       "}\n",
       "\n",
       "/* on hover */\n",
       "#sk-container-id-1 div.sk-estimator:hover {\n",
       "  /* unfitted */\n",
       "  background-color: var(--sklearn-color-unfitted-level-2);\n",
       "}\n",
       "\n",
       "#sk-container-id-1 div.sk-estimator.fitted:hover {\n",
       "  /* fitted */\n",
       "  background-color: var(--sklearn-color-fitted-level-2);\n",
       "}\n",
       "\n",
       "/* Specification for estimator info (e.g. \"i\" and \"?\") */\n",
       "\n",
       "/* Common style for \"i\" and \"?\" */\n",
       "\n",
       ".sk-estimator-doc-link,\n",
       "a:link.sk-estimator-doc-link,\n",
       "a:visited.sk-estimator-doc-link {\n",
       "  float: right;\n",
       "  font-size: smaller;\n",
       "  line-height: 1em;\n",
       "  font-family: monospace;\n",
       "  background-color: var(--sklearn-color-background);\n",
       "  border-radius: 1em;\n",
       "  height: 1em;\n",
       "  width: 1em;\n",
       "  text-decoration: none !important;\n",
       "  margin-left: 1ex;\n",
       "  /* unfitted */\n",
       "  border: var(--sklearn-color-unfitted-level-1) 1pt solid;\n",
       "  color: var(--sklearn-color-unfitted-level-1);\n",
       "}\n",
       "\n",
       ".sk-estimator-doc-link.fitted,\n",
       "a:link.sk-estimator-doc-link.fitted,\n",
       "a:visited.sk-estimator-doc-link.fitted {\n",
       "  /* fitted */\n",
       "  border: var(--sklearn-color-fitted-level-1) 1pt solid;\n",
       "  color: var(--sklearn-color-fitted-level-1);\n",
       "}\n",
       "\n",
       "/* On hover */\n",
       "div.sk-estimator:hover .sk-estimator-doc-link:hover,\n",
       ".sk-estimator-doc-link:hover,\n",
       "div.sk-label-container:hover .sk-estimator-doc-link:hover,\n",
       ".sk-estimator-doc-link:hover {\n",
       "  /* unfitted */\n",
       "  background-color: var(--sklearn-color-unfitted-level-3);\n",
       "  color: var(--sklearn-color-background);\n",
       "  text-decoration: none;\n",
       "}\n",
       "\n",
       "div.sk-estimator.fitted:hover .sk-estimator-doc-link.fitted:hover,\n",
       ".sk-estimator-doc-link.fitted:hover,\n",
       "div.sk-label-container:hover .sk-estimator-doc-link.fitted:hover,\n",
       ".sk-estimator-doc-link.fitted:hover {\n",
       "  /* fitted */\n",
       "  background-color: var(--sklearn-color-fitted-level-3);\n",
       "  color: var(--sklearn-color-background);\n",
       "  text-decoration: none;\n",
       "}\n",
       "\n",
       "/* Span, style for the box shown on hovering the info icon */\n",
       ".sk-estimator-doc-link span {\n",
       "  display: none;\n",
       "  z-index: 9999;\n",
       "  position: relative;\n",
       "  font-weight: normal;\n",
       "  right: .2ex;\n",
       "  padding: .5ex;\n",
       "  margin: .5ex;\n",
       "  width: min-content;\n",
       "  min-width: 20ex;\n",
       "  max-width: 50ex;\n",
       "  color: var(--sklearn-color-text);\n",
       "  box-shadow: 2pt 2pt 4pt #999;\n",
       "  /* unfitted */\n",
       "  background: var(--sklearn-color-unfitted-level-0);\n",
       "  border: .5pt solid var(--sklearn-color-unfitted-level-3);\n",
       "}\n",
       "\n",
       ".sk-estimator-doc-link.fitted span {\n",
       "  /* fitted */\n",
       "  background: var(--sklearn-color-fitted-level-0);\n",
       "  border: var(--sklearn-color-fitted-level-3);\n",
       "}\n",
       "\n",
       ".sk-estimator-doc-link:hover span {\n",
       "  display: block;\n",
       "}\n",
       "\n",
       "/* \"?\"-specific style due to the `<a>` HTML tag */\n",
       "\n",
       "#sk-container-id-1 a.estimator_doc_link {\n",
       "  float: right;\n",
       "  font-size: 1rem;\n",
       "  line-height: 1em;\n",
       "  font-family: monospace;\n",
       "  background-color: var(--sklearn-color-background);\n",
       "  border-radius: 1rem;\n",
       "  height: 1rem;\n",
       "  width: 1rem;\n",
       "  text-decoration: none;\n",
       "  /* unfitted */\n",
       "  color: var(--sklearn-color-unfitted-level-1);\n",
       "  border: var(--sklearn-color-unfitted-level-1) 1pt solid;\n",
       "}\n",
       "\n",
       "#sk-container-id-1 a.estimator_doc_link.fitted {\n",
       "  /* fitted */\n",
       "  border: var(--sklearn-color-fitted-level-1) 1pt solid;\n",
       "  color: var(--sklearn-color-fitted-level-1);\n",
       "}\n",
       "\n",
       "/* On hover */\n",
       "#sk-container-id-1 a.estimator_doc_link:hover {\n",
       "  /* unfitted */\n",
       "  background-color: var(--sklearn-color-unfitted-level-3);\n",
       "  color: var(--sklearn-color-background);\n",
       "  text-decoration: none;\n",
       "}\n",
       "\n",
       "#sk-container-id-1 a.estimator_doc_link.fitted:hover {\n",
       "  /* fitted */\n",
       "  background-color: var(--sklearn-color-fitted-level-3);\n",
       "}\n",
       "</style><div id=\"sk-container-id-1\" class=\"sk-top-container\"><div class=\"sk-text-repr-fallback\"><pre>LinearRegression()</pre><b>In a Jupyter environment, please rerun this cell to show the HTML representation or trust the notebook. <br />On GitHub, the HTML representation is unable to render, please try loading this page with nbviewer.org.</b></div><div class=\"sk-container\" hidden><div class=\"sk-item\"><div class=\"sk-estimator fitted sk-toggleable\"><input class=\"sk-toggleable__control sk-hidden--visually\" id=\"sk-estimator-id-1\" type=\"checkbox\" checked><label for=\"sk-estimator-id-1\" class=\"sk-toggleable__label fitted sk-toggleable__label-arrow fitted\">&nbsp;&nbsp;LinearRegression<a class=\"sk-estimator-doc-link fitted\" rel=\"noreferrer\" target=\"_blank\" href=\"https://scikit-learn.org/1.5/modules/generated/sklearn.linear_model.LinearRegression.html\">?<span>Documentation for LinearRegression</span></a><span class=\"sk-estimator-doc-link fitted\">i<span>Fitted</span></span></label><div class=\"sk-toggleable__content fitted\"><pre>LinearRegression()</pre></div> </div></div></div></div>"
      ],
      "text/plain": [
       "LinearRegression()"
      ]
     },
     "execution_count": 17,
     "metadata": {},
     "output_type": "execute_result"
    }
   ],
   "source": [
    "reg.fit(X, y)"
   ]
  },
  {
   "cell_type": "code",
   "execution_count": 20,
   "metadata": {},
   "outputs": [
    {
     "data": {
      "text/plain": [
       "array([[0.26902748]])"
      ]
     },
     "execution_count": 20,
     "metadata": {},
     "output_type": "execute_result"
    }
   ],
   "source": [
    "reg.predict(np.array([18]).reshape(-1, 1))\n"
   ]
=======
>>>>>>> f919394 (FEAT: Added a ipynb impl. Simple Linear Regression)
  }
 ],
 "metadata": {
  "kernelspec": {
   "display_name": "venv",
   "language": "python",
   "name": "python3"
  },
  "language_info": {
   "codemirror_mode": {
    "name": "ipython",
    "version": 3
   },
   "file_extension": ".py",
   "mimetype": "text/x-python",
   "name": "python",
   "nbconvert_exporter": "python",
   "pygments_lexer": "ipython3",
   "version": "3.10.13"
  }
 },
 "nbformat": 4,
 "nbformat_minor": 2
}
